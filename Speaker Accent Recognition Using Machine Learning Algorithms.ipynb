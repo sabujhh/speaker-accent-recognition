{
 "cells": [
  {
   "cell_type": "markdown",
   "id": "b8cfc5fe",
   "metadata": {},
   "source": [
    "# Importing Dataset"
   ]
  },
  {
   "cell_type": "code",
   "execution_count": 1,
   "id": "4625164b",
   "metadata": {},
   "outputs": [],
   "source": [
    "import os\n",
    "path = 'G:\\Data Science Projects\\Speaker Accent Recognition'\n",
    "os.chdir(path)"
   ]
  },
  {
   "cell_type": "code",
   "execution_count": 2,
   "id": "a0c065b2",
   "metadata": {},
   "outputs": [
    {
     "name": "stdout",
     "output_type": "stream",
     "text": [
      "Requirement already satisfied: imbalanced-learn in c:\\users\\hasan sabuj\\anaconda3\\lib\\site-packages (0.8.1)\n",
      "Requirement already satisfied: numpy>=1.13.3 in c:\\users\\hasan sabuj\\anaconda3\\lib\\site-packages (from imbalanced-learn) (1.20.1)\n",
      "Requirement already satisfied: scikit-learn>=0.24 in c:\\users\\hasan sabuj\\anaconda3\\lib\\site-packages (from imbalanced-learn) (0.24.1)\n",
      "Requirement already satisfied: joblib>=0.11 in c:\\users\\hasan sabuj\\anaconda3\\lib\\site-packages (from imbalanced-learn) (1.0.1)\n",
      "Requirement already satisfied: scipy>=0.19.1 in c:\\users\\hasan sabuj\\anaconda3\\lib\\site-packages (from imbalanced-learn) (1.6.2)\n",
      "Requirement already satisfied: threadpoolctl>=2.0.0 in c:\\users\\hasan sabuj\\anaconda3\\lib\\site-packages (from scikit-learn>=0.24->imbalanced-learn) (2.1.0)\n"
     ]
    }
   ],
   "source": [
    "import pandas as pd\n",
    "import seaborn as sns\n",
    "import matplotlib.pyplot as plt\n",
    "import numpy as np\n",
    "import sklearn\n",
    "!pip install imbalanced-learn"
   ]
  },
  {
   "cell_type": "code",
   "execution_count": 3,
   "id": "a8b778f6",
   "metadata": {},
   "outputs": [],
   "source": [
    "df = pd.read_csv('accent_dataset.csv')"
   ]
  },
  {
   "cell_type": "code",
   "execution_count": 4,
   "id": "507ae5ce",
   "metadata": {},
   "outputs": [
    {
     "data": {
      "text/html": [
       "<div>\n",
       "<style scoped>\n",
       "    .dataframe tbody tr th:only-of-type {\n",
       "        vertical-align: middle;\n",
       "    }\n",
       "\n",
       "    .dataframe tbody tr th {\n",
       "        vertical-align: top;\n",
       "    }\n",
       "\n",
       "    .dataframe thead th {\n",
       "        text-align: right;\n",
       "    }\n",
       "</style>\n",
       "<table border=\"1\" class=\"dataframe\">\n",
       "  <thead>\n",
       "    <tr style=\"text-align: right;\">\n",
       "      <th></th>\n",
       "      <th>language</th>\n",
       "      <th>X1</th>\n",
       "      <th>X2</th>\n",
       "      <th>X3</th>\n",
       "      <th>X4</th>\n",
       "      <th>X5</th>\n",
       "      <th>X6</th>\n",
       "      <th>X7</th>\n",
       "      <th>X8</th>\n",
       "      <th>X9</th>\n",
       "      <th>X10</th>\n",
       "      <th>X11</th>\n",
       "      <th>X12</th>\n",
       "    </tr>\n",
       "  </thead>\n",
       "  <tbody>\n",
       "    <tr>\n",
       "      <th>0</th>\n",
       "      <td>ES</td>\n",
       "      <td>7.071476</td>\n",
       "      <td>-6.512900</td>\n",
       "      <td>7.650800</td>\n",
       "      <td>11.150783</td>\n",
       "      <td>-7.657312</td>\n",
       "      <td>12.484021</td>\n",
       "      <td>-11.709772</td>\n",
       "      <td>3.426596</td>\n",
       "      <td>1.462715</td>\n",
       "      <td>-2.812753</td>\n",
       "      <td>0.866538</td>\n",
       "      <td>-5.244274</td>\n",
       "    </tr>\n",
       "    <tr>\n",
       "      <th>1</th>\n",
       "      <td>ES</td>\n",
       "      <td>10.982967</td>\n",
       "      <td>-5.157445</td>\n",
       "      <td>3.952060</td>\n",
       "      <td>11.529381</td>\n",
       "      <td>-7.638047</td>\n",
       "      <td>12.136098</td>\n",
       "      <td>-12.036247</td>\n",
       "      <td>3.491943</td>\n",
       "      <td>0.595441</td>\n",
       "      <td>-4.508811</td>\n",
       "      <td>2.332147</td>\n",
       "      <td>-6.221857</td>\n",
       "    </tr>\n",
       "    <tr>\n",
       "      <th>2</th>\n",
       "      <td>ES</td>\n",
       "      <td>7.827108</td>\n",
       "      <td>-5.477472</td>\n",
       "      <td>7.816257</td>\n",
       "      <td>9.187592</td>\n",
       "      <td>-7.172511</td>\n",
       "      <td>11.715299</td>\n",
       "      <td>-13.847214</td>\n",
       "      <td>4.574075</td>\n",
       "      <td>-1.687559</td>\n",
       "      <td>-7.204041</td>\n",
       "      <td>-0.011847</td>\n",
       "      <td>-6.463144</td>\n",
       "    </tr>\n",
       "    <tr>\n",
       "      <th>3</th>\n",
       "      <td>ES</td>\n",
       "      <td>6.744083</td>\n",
       "      <td>-5.688920</td>\n",
       "      <td>6.546789</td>\n",
       "      <td>9.000183</td>\n",
       "      <td>-6.924963</td>\n",
       "      <td>11.710766</td>\n",
       "      <td>-12.374388</td>\n",
       "      <td>6.169879</td>\n",
       "      <td>-0.544747</td>\n",
       "      <td>-6.019237</td>\n",
       "      <td>1.358559</td>\n",
       "      <td>-6.356441</td>\n",
       "    </tr>\n",
       "    <tr>\n",
       "      <th>4</th>\n",
       "      <td>ES</td>\n",
       "      <td>5.836843</td>\n",
       "      <td>-5.326557</td>\n",
       "      <td>7.472265</td>\n",
       "      <td>8.847440</td>\n",
       "      <td>-6.773244</td>\n",
       "      <td>12.677218</td>\n",
       "      <td>-12.315061</td>\n",
       "      <td>4.416344</td>\n",
       "      <td>0.193500</td>\n",
       "      <td>-3.644812</td>\n",
       "      <td>2.151239</td>\n",
       "      <td>-6.816310</td>\n",
       "    </tr>\n",
       "  </tbody>\n",
       "</table>\n",
       "</div>"
      ],
      "text/plain": [
       "  language         X1        X2        X3         X4        X5         X6  \\\n",
       "0       ES   7.071476 -6.512900  7.650800  11.150783 -7.657312  12.484021   \n",
       "1       ES  10.982967 -5.157445  3.952060  11.529381 -7.638047  12.136098   \n",
       "2       ES   7.827108 -5.477472  7.816257   9.187592 -7.172511  11.715299   \n",
       "3       ES   6.744083 -5.688920  6.546789   9.000183 -6.924963  11.710766   \n",
       "4       ES   5.836843 -5.326557  7.472265   8.847440 -6.773244  12.677218   \n",
       "\n",
       "          X7        X8        X9       X10       X11       X12  \n",
       "0 -11.709772  3.426596  1.462715 -2.812753  0.866538 -5.244274  \n",
       "1 -12.036247  3.491943  0.595441 -4.508811  2.332147 -6.221857  \n",
       "2 -13.847214  4.574075 -1.687559 -7.204041 -0.011847 -6.463144  \n",
       "3 -12.374388  6.169879 -0.544747 -6.019237  1.358559 -6.356441  \n",
       "4 -12.315061  4.416344  0.193500 -3.644812  2.151239 -6.816310  "
      ]
     },
     "execution_count": 4,
     "metadata": {},
     "output_type": "execute_result"
    }
   ],
   "source": [
    "df.head()"
   ]
  },
  {
   "cell_type": "code",
   "execution_count": 5,
   "id": "975f819b",
   "metadata": {},
   "outputs": [
    {
     "data": {
      "text/plain": [
       "language    0\n",
       "X1          0\n",
       "X2          0\n",
       "X3          0\n",
       "X4          0\n",
       "X5          0\n",
       "X6          0\n",
       "X7          0\n",
       "X8          0\n",
       "X9          0\n",
       "X10         0\n",
       "X11         0\n",
       "X12         0\n",
       "dtype: int64"
      ]
     },
     "execution_count": 5,
     "metadata": {},
     "output_type": "execute_result"
    }
   ],
   "source": [
    "#Checking missing values\n",
    "df.isnull().sum()"
   ]
  },
  {
   "cell_type": "markdown",
   "id": "563209f4",
   "metadata": {},
   "source": [
    "# Upsampling"
   ]
  },
  {
   "cell_type": "code",
   "execution_count": 6,
   "id": "8720b65d",
   "metadata": {},
   "outputs": [
    {
     "data": {
      "text/plain": [
       "Text(0, 0.5, 'Frequency')"
      ]
     },
     "execution_count": 6,
     "metadata": {},
     "output_type": "execute_result"
    },
    {
     "data": {
      "image/png": "[encoded data removed]",
      "text/plain": [
       "<Figure size 432x288 with 1 Axes>"
      ]
     },
     "metadata": {
      "needs_background": "light"
     },
     "output_type": "display_data"
    }
   ],
   "source": [
    "count_classes = pd.value_counts(df['language'], sort = True)\n",
    "count_classes.plot(kind = 'bar', rot=0)\n",
    "plt.title(\"Before Upsampling\")\n",
    "plt.xticks()\n",
    "plt.xlabel(\"language\")\n",
    "plt.ylabel(\"Frequency\")"
   ]
  },
  {
   "cell_type": "code",
   "execution_count": 7,
   "id": "694b7d1f",
   "metadata": {},
   "outputs": [
    {
     "data": {
      "text/plain": [
       "US    165\n",
       "UK     45\n",
       "IT     30\n",
       "GE     30\n",
       "FR     30\n",
       "ES     29\n",
       "Name: language, dtype: int64"
      ]
     },
     "execution_count": 7,
     "metadata": {},
     "output_type": "execute_result"
    }
   ],
   "source": [
    "df['language'].value_counts()"
   ]
  },
  {
   "cell_type": "code",
   "execution_count": 8,
   "id": "1edd9498",
   "metadata": {},
   "outputs": [
    {
     "data": {
      "text/html": [
       "<div>\n",
       "<style scoped>\n",
       "    .dataframe tbody tr th:only-of-type {\n",
       "        vertical-align: middle;\n",
       "    }\n",
       "\n",
       "    .dataframe tbody tr th {\n",
       "        vertical-align: top;\n",
       "    }\n",
       "\n",
       "    .dataframe thead th {\n",
       "        text-align: right;\n",
       "    }\n",
       "</style>\n",
       "<table border=\"1\" class=\"dataframe\">\n",
       "  <thead>\n",
       "    <tr style=\"text-align: right;\">\n",
       "      <th></th>\n",
       "      <th>X1</th>\n",
       "      <th>X2</th>\n",
       "      <th>X3</th>\n",
       "      <th>X4</th>\n",
       "      <th>X5</th>\n",
       "      <th>X6</th>\n",
       "      <th>X7</th>\n",
       "      <th>X8</th>\n",
       "      <th>X9</th>\n",
       "      <th>X10</th>\n",
       "      <th>X11</th>\n",
       "      <th>X12</th>\n",
       "    </tr>\n",
       "  </thead>\n",
       "  <tbody>\n",
       "    <tr>\n",
       "      <th>0</th>\n",
       "      <td>7.071476</td>\n",
       "      <td>-6.512900</td>\n",
       "      <td>7.650800</td>\n",
       "      <td>11.150783</td>\n",
       "      <td>-7.657312</td>\n",
       "      <td>12.484021</td>\n",
       "      <td>-11.709772</td>\n",
       "      <td>3.426596</td>\n",
       "      <td>1.462715</td>\n",
       "      <td>-2.812753</td>\n",
       "      <td>0.866538</td>\n",
       "      <td>-5.244274</td>\n",
       "    </tr>\n",
       "    <tr>\n",
       "      <th>1</th>\n",
       "      <td>10.982967</td>\n",
       "      <td>-5.157445</td>\n",
       "      <td>3.952060</td>\n",
       "      <td>11.529381</td>\n",
       "      <td>-7.638047</td>\n",
       "      <td>12.136098</td>\n",
       "      <td>-12.036247</td>\n",
       "      <td>3.491943</td>\n",
       "      <td>0.595441</td>\n",
       "      <td>-4.508811</td>\n",
       "      <td>2.332147</td>\n",
       "      <td>-6.221857</td>\n",
       "    </tr>\n",
       "    <tr>\n",
       "      <th>2</th>\n",
       "      <td>7.827108</td>\n",
       "      <td>-5.477472</td>\n",
       "      <td>7.816257</td>\n",
       "      <td>9.187592</td>\n",
       "      <td>-7.172511</td>\n",
       "      <td>11.715299</td>\n",
       "      <td>-13.847214</td>\n",
       "      <td>4.574075</td>\n",
       "      <td>-1.687559</td>\n",
       "      <td>-7.204041</td>\n",
       "      <td>-0.011847</td>\n",
       "      <td>-6.463144</td>\n",
       "    </tr>\n",
       "    <tr>\n",
       "      <th>3</th>\n",
       "      <td>6.744083</td>\n",
       "      <td>-5.688920</td>\n",
       "      <td>6.546789</td>\n",
       "      <td>9.000183</td>\n",
       "      <td>-6.924963</td>\n",
       "      <td>11.710766</td>\n",
       "      <td>-12.374388</td>\n",
       "      <td>6.169879</td>\n",
       "      <td>-0.544747</td>\n",
       "      <td>-6.019237</td>\n",
       "      <td>1.358559</td>\n",
       "      <td>-6.356441</td>\n",
       "    </tr>\n",
       "    <tr>\n",
       "      <th>4</th>\n",
       "      <td>5.836843</td>\n",
       "      <td>-5.326557</td>\n",
       "      <td>7.472265</td>\n",
       "      <td>8.847440</td>\n",
       "      <td>-6.773244</td>\n",
       "      <td>12.677218</td>\n",
       "      <td>-12.315061</td>\n",
       "      <td>4.416344</td>\n",
       "      <td>0.193500</td>\n",
       "      <td>-3.644812</td>\n",
       "      <td>2.151239</td>\n",
       "      <td>-6.816310</td>\n",
       "    </tr>\n",
       "  </tbody>\n",
       "</table>\n",
       "</div>"
      ],
      "text/plain": [
       "          X1        X2        X3         X4        X5         X6         X7  \\\n",
       "0   7.071476 -6.512900  7.650800  11.150783 -7.657312  12.484021 -11.709772   \n",
       "1  10.982967 -5.157445  3.952060  11.529381 -7.638047  12.136098 -12.036247   \n",
       "2   7.827108 -5.477472  7.816257   9.187592 -7.172511  11.715299 -13.847214   \n",
       "3   6.744083 -5.688920  6.546789   9.000183 -6.924963  11.710766 -12.374388   \n",
       "4   5.836843 -5.326557  7.472265   8.847440 -6.773244  12.677218 -12.315061   \n",
       "\n",
       "         X8        X9       X10       X11       X12  \n",
       "0  3.426596  1.462715 -2.812753  0.866538 -5.244274  \n",
       "1  3.491943  0.595441 -4.508811  2.332147 -6.221857  \n",
       "2  4.574075 -1.687559 -7.204041 -0.011847 -6.463144  \n",
       "3  6.169879 -0.544747 -6.019237  1.358559 -6.356441  \n",
       "4  4.416344  0.193500 -3.644812  2.151239 -6.816310  "
      ]
     },
     "execution_count": 8,
     "metadata": {},
     "output_type": "execute_result"
    }
   ],
   "source": [
    "from imblearn.over_sampling import SMOTE\n",
    "x = df.drop(['language'], axis=1)\n",
    "y = df.language\n",
    "x.head()"
   ]
  },
  {
   "cell_type": "code",
   "execution_count": 9,
   "id": "90153b64",
   "metadata": {},
   "outputs": [],
   "source": [
    "x.shape, y.shape\n",
    "smk = SMOTE(random_state=15)\n",
    "x_res,y_res=smk.fit_resample(x, y)"
   ]
  },
  {
   "cell_type": "code",
   "execution_count": 10,
   "id": "59c87255",
   "metadata": {},
   "outputs": [
    {
     "data": {
      "text/plain": [
       "((990, 12), (990,))"
      ]
     },
     "execution_count": 10,
     "metadata": {},
     "output_type": "execute_result"
    }
   ],
   "source": [
    "x_res.shape, y_res.shape"
   ]
  },
  {
   "cell_type": "code",
   "execution_count": 11,
   "id": "c8cab47f",
   "metadata": {},
   "outputs": [
    {
     "data": {
      "text/plain": [
       "IT    165\n",
       "UK    165\n",
       "US    165\n",
       "ES    165\n",
       "GE    165\n",
       "FR    165\n",
       "Name: language, dtype: int64"
      ]
     },
     "execution_count": 11,
     "metadata": {},
     "output_type": "execute_result"
    }
   ],
   "source": [
    "y_res.value_counts()"
   ]
  },
  {
   "cell_type": "code",
   "execution_count": 12,
   "id": "66671416",
   "metadata": {},
   "outputs": [
    {
     "data": {
      "text/plain": [
       "Text(0, 0.5, 'Frequency')"
      ]
     },
     "execution_count": 12,
     "metadata": {},
     "output_type": "execute_result"
    },
    {
     "data": {
      "image/png": "[encoded data removed]",
      "text/plain": [
       "<Figure size 432x288 with 1 Axes>"
      ]
     },
     "metadata": {
      "needs_background": "light"
     },
     "output_type": "display_data"
    }
   ],
   "source": [
    "count_classes = pd.value_counts(y_res, sort = True)\n",
    "count_classes.plot(kind = 'bar', rot=0)\n",
    "plt.title(\"After Upsampling\")\n",
    "plt.xticks()\n",
    "plt.xlabel(\"language\")\n",
    "plt.ylabel(\"Frequency\")"
   ]
  },
  {
   "cell_type": "markdown",
   "id": "5364d30d",
   "metadata": {},
   "source": [
    "# Encoding and Scaling"
   ]
  },
  {
   "cell_type": "code",
   "execution_count": 14,
   "id": "c1d6e020",
   "metadata": {},
   "outputs": [],
   "source": [
    "y_res, label = pd.factorize(y_res)"
   ]
  },
  {
   "cell_type": "code",
   "execution_count": 15,
   "id": "35751a40",
   "metadata": {},
   "outputs": [
    {
     "name": "stdout",
     "output_type": "stream",
     "text": [
      "Index(['ES', 'FR', 'GE', 'IT', 'UK', 'US'], dtype='object')\n"
     ]
    }
   ],
   "source": [
    "print(label)"
   ]
  },
  {
   "cell_type": "code",
   "execution_count": 16,
   "id": "5159512c",
   "metadata": {},
   "outputs": [
    {
     "data": {
      "text/plain": [
       "0    ES\n",
       "1    ES\n",
       "2    ES\n",
       "3    ES\n",
       "4    ES\n",
       "Name: language, dtype: object"
      ]
     },
     "execution_count": 16,
     "metadata": {},
     "output_type": "execute_result"
    }
   ],
   "source": [
    "y.head()"
   ]
  },
  {
   "cell_type": "code",
   "execution_count": 17,
   "id": "509e70a4",
   "metadata": {},
   "outputs": [],
   "source": [
    "#Standarization\n",
    "from sklearn.preprocessing import StandardScaler"
   ]
  },
  {
   "cell_type": "code",
   "execution_count": 18,
   "id": "fdd15d02",
   "metadata": {},
   "outputs": [],
   "source": [
    "scaler = StandardScaler()"
   ]
  },
  {
   "cell_type": "code",
   "execution_count": 19,
   "id": "fb9dc509",
   "metadata": {},
   "outputs": [],
   "source": [
    "x.iloc[:,:] = scaler.fit_transform(x.iloc[:,:])"
   ]
  },
  {
   "cell_type": "code",
   "execution_count": 20,
   "id": "a7c579e7",
   "metadata": {},
   "outputs": [
    {
     "data": {
      "text/html": [
       "<div>\n",
       "<style scoped>\n",
       "    .dataframe tbody tr th:only-of-type {\n",
       "        vertical-align: middle;\n",
       "    }\n",
       "\n",
       "    .dataframe tbody tr th {\n",
       "        vertical-align: top;\n",
       "    }\n",
       "\n",
       "    .dataframe thead th {\n",
       "        text-align: right;\n",
       "    }\n",
       "</style>\n",
       "<table border=\"1\" class=\"dataframe\">\n",
       "  <thead>\n",
       "    <tr style=\"text-align: right;\">\n",
       "      <th></th>\n",
       "      <th>X1</th>\n",
       "      <th>X2</th>\n",
       "      <th>X3</th>\n",
       "      <th>X4</th>\n",
       "      <th>X5</th>\n",
       "      <th>X6</th>\n",
       "      <th>X7</th>\n",
       "      <th>X8</th>\n",
       "      <th>X9</th>\n",
       "      <th>X10</th>\n",
       "      <th>X11</th>\n",
       "      <th>X12</th>\n",
       "    </tr>\n",
       "  </thead>\n",
       "  <tbody>\n",
       "    <tr>\n",
       "      <th>0</th>\n",
       "      <td>0.279792</td>\n",
       "      <td>-0.638952</td>\n",
       "      <td>1.381754</td>\n",
       "      <td>0.917983</td>\n",
       "      <td>-0.437676</td>\n",
       "      <td>0.738790</td>\n",
       "      <td>-0.927986</td>\n",
       "      <td>-0.638837</td>\n",
       "      <td>0.741777</td>\n",
       "      <td>-0.089478</td>\n",
       "      <td>-0.450393</td>\n",
       "      <td>-0.423923</td>\n",
       "    </tr>\n",
       "    <tr>\n",
       "      <th>1</th>\n",
       "      <td>1.047121</td>\n",
       "      <td>-0.252673</td>\n",
       "      <td>0.362759</td>\n",
       "      <td>1.005957</td>\n",
       "      <td>-0.433478</td>\n",
       "      <td>0.642656</td>\n",
       "      <td>-1.059611</td>\n",
       "      <td>-0.614146</td>\n",
       "      <td>0.502814</td>\n",
       "      <td>-0.426374</td>\n",
       "      <td>-0.028414</td>\n",
       "      <td>-0.751824</td>\n",
       "    </tr>\n",
       "    <tr>\n",
       "      <th>2</th>\n",
       "      <td>0.428026</td>\n",
       "      <td>-0.343875</td>\n",
       "      <td>1.427337</td>\n",
       "      <td>0.461802</td>\n",
       "      <td>-0.332036</td>\n",
       "      <td>0.526385</td>\n",
       "      <td>-1.789739</td>\n",
       "      <td>-0.205266</td>\n",
       "      <td>-0.126230</td>\n",
       "      <td>-0.961741</td>\n",
       "      <td>-0.703298</td>\n",
       "      <td>-0.832757</td>\n",
       "    </tr>\n",
       "    <tr>\n",
       "      <th>3</th>\n",
       "      <td>0.215566</td>\n",
       "      <td>-0.404134</td>\n",
       "      <td>1.077601</td>\n",
       "      <td>0.418255</td>\n",
       "      <td>-0.278095</td>\n",
       "      <td>0.525133</td>\n",
       "      <td>-1.195939</td>\n",
       "      <td>0.397703</td>\n",
       "      <td>0.188654</td>\n",
       "      <td>-0.726397</td>\n",
       "      <td>-0.308730</td>\n",
       "      <td>-0.796966</td>\n",
       "    </tr>\n",
       "    <tr>\n",
       "      <th>4</th>\n",
       "      <td>0.037590</td>\n",
       "      <td>-0.300867</td>\n",
       "      <td>1.332568</td>\n",
       "      <td>0.382762</td>\n",
       "      <td>-0.245035</td>\n",
       "      <td>0.792172</td>\n",
       "      <td>-1.172020</td>\n",
       "      <td>-0.264864</td>\n",
       "      <td>0.392066</td>\n",
       "      <td>-0.254754</td>\n",
       "      <td>-0.080501</td>\n",
       "      <td>-0.951215</td>\n",
       "    </tr>\n",
       "  </tbody>\n",
       "</table>\n",
       "</div>"
      ],
      "text/plain": [
       "         X1        X2        X3        X4        X5        X6        X7  \\\n",
       "0  0.279792 -0.638952  1.381754  0.917983 -0.437676  0.738790 -0.927986   \n",
       "1  1.047121 -0.252673  0.362759  1.005957 -0.433478  0.642656 -1.059611   \n",
       "2  0.428026 -0.343875  1.427337  0.461802 -0.332036  0.526385 -1.789739   \n",
       "3  0.215566 -0.404134  1.077601  0.418255 -0.278095  0.525133 -1.195939   \n",
       "4  0.037590 -0.300867  1.332568  0.382762 -0.245035  0.792172 -1.172020   \n",
       "\n",
       "         X8        X9       X10       X11       X12  \n",
       "0 -0.638837  0.741777 -0.089478 -0.450393 -0.423923  \n",
       "1 -0.614146  0.502814 -0.426374 -0.028414 -0.751824  \n",
       "2 -0.205266 -0.126230 -0.961741 -0.703298 -0.832757  \n",
       "3  0.397703  0.188654 -0.726397 -0.308730 -0.796966  \n",
       "4 -0.264864  0.392066 -0.254754 -0.080501 -0.951215  "
      ]
     },
     "execution_count": 20,
     "metadata": {},
     "output_type": "execute_result"
    }
   ],
   "source": [
    "x.head()"
   ]
  },
  {
   "cell_type": "markdown",
   "id": "85d5701f",
   "metadata": {},
   "source": [
    "# Train Test Split"
   ]
  },
  {
   "cell_type": "code",
   "execution_count": 21,
   "id": "7de7cb12",
   "metadata": {},
   "outputs": [],
   "source": [
    "from sklearn.model_selection import train_test_split\n",
    "x_train, x_test, y_train, y_test = train_test_split(x_res, y_res, test_size=0.30, random_state=5)"
   ]
  },
  {
   "cell_type": "code",
   "execution_count": 22,
   "id": "bd0c4902",
   "metadata": {},
   "outputs": [
    {
     "name": "stdout",
     "output_type": "stream",
     "text": [
      "(693, 12)\n",
      "(297, 12)\n",
      "(693,)\n",
      "(297,)\n"
     ]
    }
   ],
   "source": [
    "print(x_train.shape)\n",
    "print(x_test.shape)\n",
    "print(y_train.shape)\n",
    "print(y_test.shape)"
   ]
  },
  {
   "cell_type": "markdown",
   "id": "6d29d8a1",
   "metadata": {},
   "source": [
    "# Implementing ML Algorithms"
   ]
  },
  {
   "cell_type": "code",
   "execution_count": 23,
   "id": "f9e1b3ab",
   "metadata": {},
   "outputs": [
    {
     "data": {
      "text/plain": [
       "0.9191919191919192"
      ]
     },
     "execution_count": 23,
     "metadata": {},
     "output_type": "execute_result"
    }
   ],
   "source": [
    "from sklearn.neighbors import KNeighborsClassifier\n",
    "knn = KNeighborsClassifier()\n",
    "knn.fit(x_train,y_train)\n",
    "knn_accuracy = knn.score(x_test, y_test)\n",
    "knn_accuracy"
   ]
  },
  {
   "cell_type": "code",
   "execution_count": 24,
   "id": "66dff212",
   "metadata": {},
   "outputs": [
    {
     "data": {
      "text/plain": [
       "0.9023569023569024"
      ]
     },
     "execution_count": 24,
     "metadata": {},
     "output_type": "execute_result"
    }
   ],
   "source": [
    "from sklearn.tree import DecisionTreeClassifier\n",
    "dt = DecisionTreeClassifier(random_state=5)\n",
    "dt.fit(x_train,y_train)\n",
    "pred_dt = dt.predict(x_test)\n",
    "dt_accuracy=dt.score(x_test, y_test)\n",
    "dt_accuracy"
   ]
  },
  {
   "cell_type": "code",
   "execution_count": 25,
   "id": "249b3147",
   "metadata": {},
   "outputs": [
    {
     "data": {
      "text/plain": [
       "0.8585858585858586"
      ]
     },
     "execution_count": 25,
     "metadata": {},
     "output_type": "execute_result"
    }
   ],
   "source": [
    "from sklearn.svm import SVC\n",
    "svc= SVC(random_state=5)\n",
    "svc.fit(x_train,y_train)\n",
    "svc_accuracy = svc.score(x_test, y_test)\n",
    "svc_accuracy"
   ]
  },
  {
   "cell_type": "code",
   "execution_count": 26,
   "id": "6ea8dda8",
   "metadata": {},
   "outputs": [
    {
     "data": {
      "text/plain": [
       "0.9528619528619529"
      ]
     },
     "execution_count": 26,
     "metadata": {},
     "output_type": "execute_result"
    }
   ],
   "source": [
    "#Random Forest with best accuracy\n",
    "from sklearn.ensemble import RandomForestClassifier\n",
    "randf = RandomForestClassifier(random_state=5)\n",
    "randf.fit(x_train,y_train)\n",
    "pred_randf = randf.predict(x_test)\n",
    "#pred_randf_with_categorical_value = le.inverse_transform(pred_randf)\n",
    "#print(pred_randf_with_categorical_value)\n",
    "randf_accuracy = randf.score(x_test, y_test)\n",
    "randf_accuracy"
   ]
  },
  {
   "cell_type": "code",
   "execution_count": 27,
   "id": "024cb5e3",
   "metadata": {},
   "outputs": [
    {
     "name": "stdout",
     "output_type": "stream",
     "text": [
      "(297,)\n"
     ]
    }
   ],
   "source": [
    "print(pred_randf.shape)"
   ]
  },
  {
   "cell_type": "code",
   "execution_count": 28,
   "id": "8df7e7f1",
   "metadata": {},
   "outputs": [
    {
     "data": {
      "text/plain": [
       "0.9225589225589226"
      ]
     },
     "execution_count": 28,
     "metadata": {},
     "output_type": "execute_result"
    }
   ],
   "source": [
    "from sklearn.ensemble import GradientBoostingClassifier\n",
    "gb = GradientBoostingClassifier(random_state=5)\n",
    "gb.fit(x_train,y_train)\n",
    "gb_accuracy=gb.score(x_test, y_test)\n",
    "gb_accuracy"
   ]
  },
  {
   "cell_type": "code",
   "execution_count": 29,
   "id": "74218aad",
   "metadata": {},
   "outputs": [
    {
     "data": {
      "text/plain": [
       "0.40404040404040403"
      ]
     },
     "execution_count": 29,
     "metadata": {},
     "output_type": "execute_result"
    }
   ],
   "source": [
    "from sklearn.ensemble import AdaBoostClassifier\n",
    "adab = AdaBoostClassifier(random_state=5)\n",
    "adab.fit(x_train,y_train)\n",
    "adab_accuracy=adab.score(x_test, y_test)\n",
    "adab_accuracy"
   ]
  },
  {
   "cell_type": "code",
   "execution_count": 30,
   "id": "c101c600",
   "metadata": {},
   "outputs": [
    {
     "name": "stderr",
     "output_type": "stream",
     "text": [
      "C:\\Users\\Hasan Sabuj\\anaconda3\\lib\\site-packages\\xgboost\\sklearn.py:1224: UserWarning: The use of label encoder in XGBClassifier is deprecated and will be removed in a future release. To remove this warning, do the following: 1) Pass option use_label_encoder=False when constructing XGBClassifier object; and 2) Encode your labels (y) as integers starting with 0, i.e. 0, 1, 2, ..., [num_class - 1].\n",
      "  warnings.warn(label_encoder_deprecation_msg, UserWarning)\n"
     ]
    },
    {
     "name": "stdout",
     "output_type": "stream",
     "text": [
      "[00:29:55] WARNING: C:/Users/Administrator/workspace/xgboost-win64_release_1.5.1/src/learner.cc:1115: Starting in XGBoost 1.3.0, the default evaluation metric used with the objective 'multi:softprob' was changed from 'merror' to 'mlogloss'. Explicitly set eval_metric if you'd like to restore the old behavior.\n"
     ]
    },
    {
     "data": {
      "text/plain": [
       "0.9191919191919192"
      ]
     },
     "execution_count": 30,
     "metadata": {},
     "output_type": "execute_result"
    }
   ],
   "source": [
    "import xgboost\n",
    "from xgboost import XGBClassifier\n",
    "xgb = XGBClassifier()\n",
    "xgb.fit(x_train, y_train)\n",
    "xgb_accuracy=xgb.score(x_test, y_test)\n",
    "xgb_accuracy"
   ]
  },
  {
   "cell_type": "code",
   "execution_count": 31,
   "id": "a7395470",
   "metadata": {},
   "outputs": [
    {
     "name": "stderr",
     "output_type": "stream",
     "text": [
      "C:\\Users\\Hasan Sabuj\\anaconda3\\lib\\site-packages\\sklearn\\linear_model\\_logistic.py:763: ConvergenceWarning: lbfgs failed to converge (status=1):\n",
      "STOP: TOTAL NO. of ITERATIONS REACHED LIMIT.\n",
      "\n",
      "Increase the number of iterations (max_iter) or scale the data as shown in:\n",
      "    https://scikit-learn.org/stable/modules/preprocessing.html\n",
      "Please also refer to the documentation for alternative solver options:\n",
      "    https://scikit-learn.org/stable/modules/linear_model.html#logistic-regression\n",
      "  n_iter_i = _check_optimize_result(\n"
     ]
    },
    {
     "data": {
      "text/plain": [
       "0.835016835016835"
      ]
     },
     "execution_count": 31,
     "metadata": {},
     "output_type": "execute_result"
    }
   ],
   "source": [
    "from sklearn.linear_model import LogisticRegression\n",
    "logreg = LogisticRegression(random_state=5)\n",
    "logreg.fit(x_train, y_train)\n",
    "logreg_accuracy=logreg.score(x_test, y_test)\n",
    "logreg_accuracy"
   ]
  },
  {
   "cell_type": "code",
   "execution_count": 32,
   "id": "63dc0991",
   "metadata": {},
   "outputs": [
    {
     "data": {
      "text/plain": [
       "0.7609427609427609"
      ]
     },
     "execution_count": 32,
     "metadata": {},
     "output_type": "execute_result"
    }
   ],
   "source": [
    "from sklearn.naive_bayes import GaussianNB\n",
    "nb = GaussianNB()\n",
    "nb.fit(x_train, y_train)\n",
    "nb_accuracy=nb.score(x_test, y_test)\n",
    "nb_accuracy"
   ]
  },
  {
   "cell_type": "markdown",
   "id": "35032153",
   "metadata": {},
   "source": [
    "# Saving above ML Models"
   ]
  },
  {
   "cell_type": "code",
   "execution_count": 33,
   "id": "caff10e8",
   "metadata": {},
   "outputs": [],
   "source": [
    "import joblib as jb"
   ]
  },
  {
   "cell_type": "code",
   "execution_count": 34,
   "id": "29879826",
   "metadata": {},
   "outputs": [
    {
     "data": {
      "text/plain": [
       "['nb']"
      ]
     },
     "execution_count": 34,
     "metadata": {},
     "output_type": "execute_result"
    }
   ],
   "source": [
    "#Saving models using Joblib\n",
    "jb.dump(knn,'knn')\n",
    "jb.dump(dt,'dt')\n",
    "jb.dump(svc,'svc')\n",
    "jb.dump(randf,'randf')\n",
    "jb.dump(gb,'gb')\n",
    "jb.dump(adab,'adab')\n",
    "jb.dump(xgb,'xgb')\n",
    "jb.dump(logreg,'logreg')\n",
    "jb.dump(nb,'nb')"
   ]
  },
  {
   "cell_type": "code",
   "execution_count": 35,
   "id": "78bab4e1",
   "metadata": {},
   "outputs": [],
   "source": [
    "#Loading those saved models\n",
    "import joblib as jb\n",
    "knn_default = jb.load('knn')\n",
    "dt_default =  jb.load('dt')\n",
    "svc_default = jb.load('svc')\n",
    "randf_default =  jb.load('randf')\n",
    "gb_default =  jb.load('gb')\n",
    "adab_default =  jb.load('adab')\n",
    "xgb_default =  jb.load('xgb')\n",
    "logreg_default =  jb.load('logreg')\n",
    "nb_default =  jb.load('nb')"
   ]
  },
  {
   "cell_type": "code",
   "execution_count": 36,
   "id": "0609c614",
   "metadata": {},
   "outputs": [
    {
     "name": "stdout",
     "output_type": "stream",
     "text": [
      "KNN accuracy           :  0.9191919191919192\n",
      "Decision Tree accuracy :  0.9023569023569024\n",
      "Support Vector Machine :  0.8585858585858586\n",
      "Random Forest accuracy :  0.9528619528619529\n",
      "Gradient Boosting      :  0.9225589225589226\n",
      "AdaBoost accuracy      :  0.40404040404040403\n",
      "XGBoost accuracy       :  0.9191919191919192\n",
      "Logistic Regression    :  0.835016835016835\n",
      "Naive Bayes accuracy   :  0.7609427609427609\n"
     ]
    }
   ],
   "source": [
    "#Printing accuracy from the saved model files\n",
    "print(\"KNN accuracy           : \", knn_default.score(x_test,y_test))\n",
    "print(\"Decision Tree accuracy : \", dt_default.score(x_test,y_test))\n",
    "print(\"Support Vector Machine : \", svc_default.score(x_test,y_test))\n",
    "print(\"Random Forest accuracy : \", randf_default.score(x_test,y_test))\n",
    "print(\"Gradient Boosting      : \", gb_default.score(x_test,y_test))\n",
    "print(\"AdaBoost accuracy      : \", adab_default.score(x_test,y_test))\n",
    "print(\"XGBoost accuracy       : \", xgb_default.score(x_test,y_test))\n",
    "print(\"Logistic Regression    : \", logreg_default.score(x_test,y_test))\n",
    "print(\"Naive Bayes accuracy   : \", nb_default.score(x_test,y_test))"
   ]
  },
  {
   "cell_type": "markdown",
   "id": "edf1ffe5",
   "metadata": {},
   "source": [
    "# Model Performance Evaluation"
   ]
  },
  {
   "cell_type": "markdown",
   "id": "e330baa0",
   "metadata": {},
   "source": [
    "### Accuracy Comparison of Algorithms"
   ]
  },
  {
   "cell_type": "code",
   "execution_count": 53,
   "id": "706028e2",
   "metadata": {},
   "outputs": [
    {
     "data": {
      "text/html": [
       "<div>\n",
       "<style scoped>\n",
       "    .dataframe tbody tr th:only-of-type {\n",
       "        vertical-align: middle;\n",
       "    }\n",
       "\n",
       "    .dataframe tbody tr th {\n",
       "        vertical-align: top;\n",
       "    }\n",
       "\n",
       "    .dataframe thead th {\n",
       "        text-align: right;\n",
       "    }\n",
       "</style>\n",
       "<table border=\"1\" class=\"dataframe\">\n",
       "  <thead>\n",
       "    <tr style=\"text-align: right;\">\n",
       "      <th></th>\n",
       "      <th>Algorithm</th>\n",
       "      <th>Accuracy (in percent)</th>\n",
       "    </tr>\n",
       "  </thead>\n",
       "  <tbody>\n",
       "    <tr>\n",
       "      <th>0</th>\n",
       "      <td>K Nearest Neighbors</td>\n",
       "      <td>91.91</td>\n",
       "    </tr>\n",
       "    <tr>\n",
       "      <th>1</th>\n",
       "      <td>Support Vector Machine</td>\n",
       "      <td>85.85</td>\n",
       "    </tr>\n",
       "    <tr>\n",
       "      <th>2</th>\n",
       "      <td>Decision Tree</td>\n",
       "      <td>90.23</td>\n",
       "    </tr>\n",
       "    <tr>\n",
       "      <th>3</th>\n",
       "      <td>Random Forest</td>\n",
       "      <td>95.28</td>\n",
       "    </tr>\n",
       "    <tr>\n",
       "      <th>4</th>\n",
       "      <td>Adaboost</td>\n",
       "      <td>92.25</td>\n",
       "    </tr>\n",
       "    <tr>\n",
       "      <th>5</th>\n",
       "      <td>Gradient Boost</td>\n",
       "      <td>40.40</td>\n",
       "    </tr>\n",
       "    <tr>\n",
       "      <th>6</th>\n",
       "      <td>XGBoost</td>\n",
       "      <td>91.91</td>\n",
       "    </tr>\n",
       "    <tr>\n",
       "      <th>7</th>\n",
       "      <td>Logistic Regression</td>\n",
       "      <td>83.50</td>\n",
       "    </tr>\n",
       "  </tbody>\n",
       "</table>\n",
       "</div>"
      ],
      "text/plain": [
       "                Algorithm  Accuracy (in percent)\n",
       "0     K Nearest Neighbors                  91.91\n",
       "1  Support Vector Machine                  85.85\n",
       "2           Decision Tree                  90.23\n",
       "3           Random Forest                  95.28\n",
       "4                Adaboost                  92.25\n",
       "5          Gradient Boost                  40.40\n",
       "6                 XGBoost                  91.91\n",
       "7     Logistic Regression                  83.50"
      ]
     },
     "execution_count": 53,
     "metadata": {},
     "output_type": "execute_result"
    }
   ],
   "source": [
    "d = {'Algorithm': ['K Nearest Neighbors', 'Support Vector Machine','Decision Tree',\n",
    "                   'Random Forest','Adaboost','Gradient Boost','XGBoost','Logistic Regression'],\n",
    "     'Accuracy (in percent)': [91.91,85.85,90.23,95.28,92.25,40.40,91.91,83.50]}\n",
    "df_accuracy = pd.DataFrame(data=d)\n",
    "df_accuracy"
   ]
  },
  {
   "cell_type": "code",
   "execution_count": 54,
   "id": "1c7160ac",
   "metadata": {},
   "outputs": [
    {
     "data": {
      "text/plain": [
       "[Text(0, 0, '91.91'),\n",
       " Text(0, 0, '85.85'),\n",
       " Text(0, 0, '90.23'),\n",
       " Text(0, 0, '95.28'),\n",
       " Text(0, 0, '92.25'),\n",
       " Text(0, 0, '40.4'),\n",
       " Text(0, 0, '91.91'),\n",
       " Text(0, 0, '83.5')]"
      ]
     },
     "execution_count": 54,
     "metadata": {},
     "output_type": "execute_result"
    },
    {
     "data": {
      "image/png": "[encoded data removed]",
      "text/plain": [
       "<Figure size 504x432 with 1 Axes>"
      ]
     },
     "metadata": {
      "needs_background": "light"
     },
     "output_type": "display_data"
    }
   ],
   "source": [
    "plt.figure(figsize=(7,6))\n",
    "plt.title('Accuracy Comparison',fontsize=14, pad = 10.0)\n",
    "p = sns.barplot(x=\"Algorithm\", y=\"Accuracy (in percent)\", data=df_accuracy,palette='hot',edgecolor=sns.color_palette('dark',7))\n",
    "plt.xticks(rotation=90)\n",
    "p.set_xlabel('Algorithm', fontsize=14)\n",
    "p.set_ylabel('Accuracy (in percent)', fontsize=14)\n",
    "p.bar_label(p.containers[0])\n",
    "#plt.savefig('Accuracy Comparison', dpi=300);"
   ]
  },
  {
   "cell_type": "markdown",
   "id": "fb8741ce",
   "metadata": {},
   "source": [
    "### Confusion Matrix & ROC-AUC"
   ]
  },
  {
   "cell_type": "code",
   "execution_count": 55,
   "id": "ca53067c",
   "metadata": {},
   "outputs": [],
   "source": [
    "from sklearn.metrics import classification_report, accuracy_score, confusion_matrix, roc_curve\n",
    "from sklearn.multiclass import OneVsRestClassifier"
   ]
  },
  {
   "cell_type": "code",
   "execution_count": 56,
   "id": "77b529a2",
   "metadata": {},
   "outputs": [
    {
     "data": {
      "text/plain": [
       "array([[53,  0,  0,  0,  0,  0],\n",
       "       [ 0, 53,  0,  0,  0,  0],\n",
       "       [ 0,  0, 33,  0,  0,  0],\n",
       "       [ 0,  0,  1, 54,  0,  0],\n",
       "       [ 2,  0,  0,  0, 54,  3],\n",
       "       [ 2,  0,  2,  2,  2, 36]], dtype=int64)"
      ]
     },
     "execution_count": 56,
     "metadata": {},
     "output_type": "execute_result"
    }
   ],
   "source": [
    "cf_matrix = confusion_matrix(y_test,pred_randf)\n",
    "cf_matrix"
   ]
  },
  {
   "cell_type": "code",
   "execution_count": 58,
   "id": "2f903e85",
   "metadata": {},
   "outputs": [
    {
     "data": {
      "text/plain": [
       "(array([0.5, 1.5, 2.5, 3.5, 4.5, 5.5]),\n",
       " [Text(0, 0.5, 'ES'),\n",
       "  Text(0, 1.5, 'FR'),\n",
       "  Text(0, 2.5, 'GE'),\n",
       "  Text(0, 3.5, 'IT'),\n",
       "  Text(0, 4.5, 'UK'),\n",
       "  Text(0, 5.5, 'US')])"
      ]
     },
     "execution_count": 58,
     "metadata": {},
     "output_type": "execute_result"
    },
    {
     "data": {
      "image/png": "[encoded data removed]",
      "text/plain": [
       "<Figure size 504x360 with 2 Axes>"
      ]
     },
     "metadata": {
      "needs_background": "light"
     },
     "output_type": "display_data"
    }
   ],
   "source": [
    "import seaborn as sns\n",
    "cf_matrix = pd.crosstab(label[y_test],label[pred_randf])\n",
    "fig = plt.subplots(figsize=(7,5))\n",
    "s = sns.heatmap(cf_matrix, linewidths=1, annot=True)\n",
    "s.set_xlabel('Predicted', labelpad=8.0, fontsize=14)\n",
    "s.set_ylabel('Truth', labelpad=8.0, fontsize=14)\n",
    "#plt.savefig('Confusion Matrix',dpi=300);\n",
    "plt.yticks(rotation=0)"
   ]
  },
  {
   "cell_type": "code",
   "execution_count": 59,
   "id": "528a0ed5",
   "metadata": {},
   "outputs": [
    {
     "name": "stdout",
     "output_type": "stream",
     "text": [
      "              precision    recall  f1-score   support\n",
      "\n",
      "          ES       0.93      1.00      0.96        53\n",
      "          FR       1.00      1.00      1.00        53\n",
      "          GE       0.92      1.00      0.96        33\n",
      "          IT       0.96      0.98      0.97        55\n",
      "          UK       0.96      0.92      0.94        59\n",
      "          US       0.92      0.82      0.87        44\n",
      "\n",
      "    accuracy                           0.95       297\n",
      "   macro avg       0.95      0.95      0.95       297\n",
      "weighted avg       0.95      0.95      0.95       297\n",
      "\n"
     ]
    }
   ],
   "source": [
    "print(classification_report(y_test,pred_randf,target_names=label))"
   ]
  },
  {
   "cell_type": "code",
   "execution_count": 60,
   "id": "8b37d49f",
   "metadata": {},
   "outputs": [],
   "source": [
    "clf = OneVsRestClassifier(randf)\n",
    "clf.fit(x_train, y_train)\n",
    "pred = clf.predict(x_test)\n",
    "pred_prob = clf.predict_proba(x_test)"
   ]
  },
  {
   "cell_type": "code",
   "execution_count": 61,
   "id": "fc727daa",
   "metadata": {},
   "outputs": [],
   "source": [
    "fpr = {}\n",
    "tpr = {}\n",
    "thresh ={}\n",
    "\n",
    "n_class = 6\n",
    "for i in range(n_class):    \n",
    "    fpr[i], tpr[i], thresh[i] = roc_curve(y_test, pred_prob[:,i], pos_label=i)"
   ]
  },
  {
   "cell_type": "code",
   "execution_count": 62,
   "id": "3819b3e2",
   "metadata": {},
   "outputs": [
    {
     "data": {
      "text/plain": [
       "<matplotlib.legend.Legend at 0x19fb1fe55e0>"
      ]
     },
     "execution_count": 62,
     "metadata": {},
     "output_type": "execute_result"
    },
    {
     "data": {
      "image/png": "[encoded data removed]",
      "text/plain": [
       "<Figure size 432x288 with 1 Axes>"
      ]
     },
     "metadata": {
      "needs_background": "light"
     },
     "output_type": "display_data"
    }
   ],
   "source": [
    "plt.plot(fpr[0], tpr[0], linestyle='--',color='orange', label='ES vs Rest')\n",
    "plt.plot(fpr[1], tpr[1], linestyle='--',color='green', label='FR vs Rest')\n",
    "plt.plot(fpr[2], tpr[2], linestyle='--',color='blue', label='GE vs Rest')\n",
    "plt.plot(fpr[3], tpr[3], linestyle='--',color='red', label='IT vs Rest')\n",
    "plt.plot(fpr[4], tpr[4], linestyle='--',color='lawngreen', label='UK vs Rest')\n",
    "plt.plot(fpr[5], tpr[5], linestyle='--',color='black', label='US vs Rest')\n",
    "plt.title('Multiclass ROC curve')\n",
    "plt.xlabel('False Positive Rate')\n",
    "plt.ylabel('True Positive rate')\n",
    "plt.legend(loc='best')\n",
    "#plt.savefig('Multiclass ROC',dpi=300);  "
   ]
  }
 ],
 "metadata": {
  "kernelspec": {
   "display_name": "Python 3",
   "language": "python",
   "name": "python3"
  },
  "language_info": {
   "codemirror_mode": {
    "name": "ipython",
    "version": 3
   },
   "file_extension": ".py",
   "mimetype": "text/x-python",
   "name": "python",
   "nbconvert_exporter": "python",
   "pygments_lexer": "ipython3",
   "version": "3.8.8"
  }
 },
 "nbformat": 4,
 "nbformat_minor": 5
}
